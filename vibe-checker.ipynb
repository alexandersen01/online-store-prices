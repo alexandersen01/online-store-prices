{
 "cells": [
  {
   "cell_type": "markdown",
   "metadata": {},
   "source": [
    "## Get all the veggies"
   ]
  },
  {
   "cell_type": "code",
   "execution_count": 47,
   "metadata": {},
   "outputs": [
    {
     "name": "stdout",
     "output_type": "stream",
     "text": [
      "['Pink Lady EplerSør Afrika, 6 stk', 'Ananas GoldCosta Rica, 1 stk', 'HonningmelonBrasil, 1 stk', 'Sitroner 2/3 stkSør Afrika/ Argentina, 380 g', 'BananerEcuador, 1 stk', 'Druer Grønne Stenfrie KurvSpania / Italia/ Brasil, 500 g', 'Blåbær i kurvPeru, 125 g', 'BringebærPolen / Portugal, 125 g', 'BlåbærBeger m/lokk,  Peru, 225 g', 'BjørnebærBelgia / Nederland, 125 g', 'RipsPortugal/ Chile, 125 g', 'BringebærPortugal, 225 g', 'Spinat UvasketItalia/ Danmark, 250 g', 'CrispisalatBeger, Norge, 1 stk', 'RucculaVasket, Italia/Spania, 70 g', 'Stor Spiseklar CrispisalatNorge, 180 g', 'Stor IsbergsalatSpania/ Polen, 1 stk', 'Babyleaf SalatblandingItalia/Spania, 100 g', 'Tomater i klaseBelgia / Nederland, 500 g', 'Økologisk SquashSpania, 1 stk', 'Gulrot i BuntNorge, 1 kg', 'Delte Maiskolber FerdigkoktThailand, 3 stk', 'SukkererterFlate, Guatemala/Egypt/ Kenya, 150 g', 'Gul PaprikaNederland / Spania, 2 stk', 'Økologisk AvokadoSpania/ Kenya, 2 stk', 'Økologiske CherrytomaterSpania / Danmark, 250 g', 'Økologiske TomaterDanmark, 400 g', 'Økologisk BrokkoliSpania / Danmark, 1 stk', 'Økologiske GulrøtterNorge, 750 g', 'Økologisk BlomkålSpania/ Danmark, 1 stk', 'Fersk Basilikumi Pose, Etiopia/ Kenya, 20 g', 'Fersk Korianderi Pose, Etiopia/ Spania, 20 g', 'Fersk Kruspersillei Beger/pose, Etiopia/ Italia, 20 g', 'Fersk Gressløki Pose, Etiopia, 20 g', 'Fersk Bladpersillei Pose, Etiopia/ Italia, 20 g', 'Fersk Kjørveli Pose, Norge, 20 g', 'Valnøttkjerner200 g', 'Eplegull med mørk sjokolade50 g', 'Eplegull med kanel30 g', 'Eplegull Naturell40 g', 'SesamfrøØkologisk, 300 g', 'GresskarkjernerØkologisk, 300 g', 'Finhakkede Tomater3 x 400g, 1200 g', 'Grovhakkede Tomater400 g', 'Finhakkede Tomater400 g', 'Hele Tomater400 g', 'Cherry Tomater400 g', 'TomatpureTube, 200 g', 'MangoterningerFerskfryste, 300 g', 'Wok Classic Big Pack850 g', 'Søtpotet Fries500 g', 'Pommes Express450 g', 'Wok Creamy CoconutMed Tilsatt Saus, 400 g', 'BringebærFerskfryste, 400 g']\n"
     ]
    }
   ],
   "source": [
    "import requests\n",
    "from bs4 import BeautifulSoup\n",
    "\n",
    "\n",
    "\n",
    "products = []\n",
    "\n",
    "response = requests.get('https://oda.com/no/categories/20-frukt-og-gront')\n",
    "soup = BeautifulSoup(response.text, 'html.parser')\n",
    "for url in soup.find_all('a', href=True):\n",
    "\n",
    "    if 'styles' in url:\n",
    "        print(url)\n",
    "\n",
    "    if '/no/products/' in url['href']:\n",
    "        products.append(url['href'])\n",
    "\n",
    "urls = products[5:]\n",
    "\n",
    "fruits = []\n",
    "\n",
    "for url in urls:\n",
    "    response = requests.get('https://oda.com' + url)\n",
    "    soup = BeautifulSoup(response.text, 'html.parser')\n",
    "\n",
    "    try:\n",
    "        for item in (soup.find_all('h1')):\n",
    "            fruits.append(item.find(\"span\", itemprop=\"name\").get_text(strip=True))\n",
    "    except:\n",
    "        continue\n",
    "\n",
    "\n"
   ]
  },
  {
   "cell_type": "markdown",
   "metadata": {},
   "source": [
    "### Now that we have gathered all the fruits, it's time to clean the data to make it more searchable\n",
    "Looking at the data, we have two different types of data.\n",
    "\n",
    "1. example: CrispisalatBeger. For this, i just want to cut it at the second capital letter\n",
    "2. example: Spinat UvasketItalia/ Danmark. I can just do the exact same as on the first point, but ignore the first word if there is only one capital letter, as well as ignore the second word if there is only one capital letter. Easy enough"
   ]
  },
  {
   "cell_type": "code",
   "execution_count": 51,
   "metadata": {},
   "outputs": [
    {
     "data": {
      "text/plain": [
       "['Pink',\n",
       " 'Ananas GoldCosta',\n",
       " 'HonningmelonBrasil,',\n",
       " 'Sitroner',\n",
       " 'BananerEcuador,',\n",
       " 'Druer',\n",
       " 'Blåbær',\n",
       " 'BringebærPolen',\n",
       " 'BlåbærBeger',\n",
       " 'BjørnebærBelgia',\n",
       " 'RipsPortugal/',\n",
       " 'BringebærPortugal,',\n",
       " 'Spinat UvasketItalia/',\n",
       " 'CrispisalatBeger,',\n",
       " 'RucculaVasket, Italia/Spania,',\n",
       " 'Stor',\n",
       " 'Stor IsbergsalatSpania/',\n",
       " 'Babyleaf SalatblandingItalia/Spania,',\n",
       " 'Tomater',\n",
       " 'Økologisk SquashSpania,',\n",
       " 'Gulrot',\n",
       " 'Delte',\n",
       " 'SukkererterFlate, Guatemala/Egypt/',\n",
       " 'Gul PaprikaNederland',\n",
       " 'Økologisk AvokadoSpania/',\n",
       " 'Økologiske CherrytomaterSpania',\n",
       " 'Økologiske TomaterDanmark,',\n",
       " 'Økologisk BrokkoliSpania',\n",
       " 'Økologiske GulrøtterNorge,',\n",
       " 'Økologisk BlomkålSpania/',\n",
       " 'Fersk',\n",
       " 'Fersk',\n",
       " 'Fersk',\n",
       " 'Fersk',\n",
       " 'Fersk',\n",
       " 'Fersk',\n",
       " 'Valnøttkjerner200',\n",
       " 'Eplegull',\n",
       " 'Eplegull',\n",
       " 'Eplegull',\n",
       " 'SesamfrøØkologisk,',\n",
       " 'GresskarkjernerØkologisk,',\n",
       " 'Finhakkede',\n",
       " 'Grovhakkede',\n",
       " 'Finhakkede',\n",
       " 'Hele',\n",
       " 'Cherry',\n",
       " 'TomatpureTube,',\n",
       " 'MangoterningerFerskfryste,',\n",
       " 'Wok',\n",
       " 'Søtpotet',\n",
       " 'Pommes',\n",
       " 'Wok',\n",
       " 'BringebærFerskfryste,']"
      ]
     },
     "execution_count": 51,
     "metadata": {},
     "output_type": "execute_result"
    }
   ],
   "source": [
    "import re\n",
    "\n",
    "def modify_product_name(product_name):\n",
    "    words = product_name.split()  # Split the product name by spaces\n",
    "    modified_words = []\n",
    "\n",
    "    # Initialize a flag to keep track of whether we have encountered the second capital letter\n",
    "    second_capital_encountered = False\n",
    "\n",
    "    for word in words:\n",
    "        if second_capital_encountered:\n",
    "            # Ignore words with only one capital letter\n",
    "            if sum(1 for c in word if c.isupper()) > 1:\n",
    "                modified_words.append(word)\n",
    "            else:\n",
    "                break\n",
    "        else:\n",
    "            # Check if the word contains a capital letter\n",
    "            if any(c.isupper() for c in word):\n",
    "                second_capital_encountered = True\n",
    "                modified_words.append(word)\n",
    "\n",
    "    # Join the modified words to create the final product name\n",
    "    modified_name = ' '.join(modified_words)\n",
    "\n",
    "    return modified_name\n",
    "\n",
    "fruits_processed = []\n",
    "\n",
    "for item in fruits:\n",
    "    fruits_processed.append(modify_product_name(item))\n",
    "\n",
    "fruits_processed\n",
    "\n"
   ]
  },
  {
   "cell_type": "code",
   "execution_count": null,
   "metadata": {},
   "outputs": [],
   "source": []
  }
 ],
 "metadata": {
  "kernelspec": {
   "display_name": "Python 3",
   "language": "python",
   "name": "python3"
  },
  "language_info": {
   "codemirror_mode": {
    "name": "ipython",
    "version": 3
   },
   "file_extension": ".py",
   "mimetype": "text/x-python",
   "name": "python",
   "nbconvert_exporter": "python",
   "pygments_lexer": "ipython3",
   "version": "3.11.1"
  }
 },
 "nbformat": 4,
 "nbformat_minor": 2
}
